{
 "cells": [
  {
   "cell_type": "code",
   "execution_count": 1,
   "metadata": {},
   "outputs": [
    {
     "name": "stderr",
     "output_type": "stream",
     "text": [
      "C:\\Users\\Shai\\anaconda3\\envs\\oqr\\lib\\site-packages\\sklearn\\utils\\deprecation.py:143: FutureWarning: The sklearn.ensemble.forest module is  deprecated in version 0.22 and will be removed in version 0.24. The corresponding classes / functions should instead be imported from sklearn.ensemble. Anything that cannot be imported from sklearn.ensemble is now part of the private API.\n",
      "  warnings.warn(message, FutureWarning)\n",
      "C:\\Users\\Shai\\anaconda3\\envs\\oqr\\lib\\site-packages\\sklearn\\utils\\deprecation.py:143: FutureWarning: The sklearn.tree.tree module is  deprecated in version 0.22 and will be removed in version 0.24. The corresponding classes / functions should instead be imported from sklearn.tree. Anything that cannot be imported from sklearn.tree is now part of the private API.\n",
      "  warnings.warn(message, FutureWarning)\n"
     ]
    }
   ],
   "source": [
    "import matplotlib as mpl\n",
    "import matplotlib.pyplot as plt\n",
    "import pickle\n",
    "import six\n",
    "import sys\n",
    "sys.modules['sklearn.externals.six'] = six\n",
    "from helper import set_seeds, create_folder_if_it_doesnt_exist, get_x_test,  calculate_test_results, REAL_DATA, SYN_DATA\n",
    "from plot_helper import get_folder_name_from_args, plot_results_during_training,\\\n",
    "        display_final_results, display_results, VANILLA_QR, OQR_CORR, OQR_HSIC\n",
    "\n",
    "%load_ext autoreload\n",
    "%autoreload 2\n",
    "\n",
    "seeds = range(30)"
   ]
  },
  {
   "cell_type": "markdown",
   "metadata": {},
   "source": [
    "# Orthogonal QR: Display results"
   ]
  },
  {
   "cell_type": "markdown",
   "metadata": {},
   "source": [
    "## Display During Training Results "
   ]
  },
  {
   "cell_type": "markdown",
   "metadata": {},
   "source": [
    "### Run `python run_all_synthetic_data_experiments.py` in the folder `reproducible_experiments` to receive all during traning results of the synthetic data\n",
    "### Alternatively, run main.py with the flag: `--save_training_results 1` to save the results of the training process\n"
   ]
  },
  {
   "cell_type": "code",
   "execution_count": null,
   "metadata": {
    "scrolled": true
   },
   "outputs": [],
   "source": [
    "data_type = SYN_DATA\n",
    "data_name = '3'\n",
    "\n",
    "results_dir = f'results/during_training/{data_type.replace(\" \", \"_\")}/{data_name}/'\n",
    "\n",
    "result_during_training_name = (results_dir + \"results_during_training\").replace(\" \", \"_\")\n",
    "results_during_training = pickle.load(open(result_during_training_name, \"rb\"))\n",
    "\n",
    "print(f\"Possible args to choose from: {list(results_during_training.keys())}\")"
   ]
  },
  {
   "cell_type": "code",
   "execution_count": null,
   "metadata": {},
   "outputs": [],
   "source": [
    "args_name = 'loss=batch_qr_bs=1024_corr_mult=0.0_hsic_mult=0.0'\n",
    "print(f\"Possible seed values to choose from: {list(results_during_training[args_name].keys())}\")"
   ]
  },
  {
   "cell_type": "code",
   "execution_count": null,
   "metadata": {
    "scrolled": false
   },
   "outputs": [],
   "source": [
    "seed_value = 42\n",
    "curr_results_during_training = results_during_training[args_name][seed_value]\n",
    "\n",
    "alpha = 0.1\n",
    "mpl.rc('font', **{'size'   : 13})\n",
    "\n",
    "line_width = 2\n",
    "save_dir = f'./results/figures/syn/during_training/seed={seed_value}'\n",
    "create_folder_if_it_doesnt_exist(save_dir)\n",
    "\n",
    "if 'corr_mult=0.0' in args_name:\n",
    "    majority_title = \"Majority Group (vanilla QR)\"\n",
    "    minority_title = \"Minority Group (vanilla QR)\"\n",
    "    last_epoch_to_present = len(curr_results_during_training['coverage_over_train_group_0']) - 1\n",
    "else:\n",
    "    majority_title = \"Majority Group (orthogonal QR)\"\n",
    "    minority_title = \"Minority Group (orthogonal QR)\"\n",
    "    last_epoch_to_present = len(curr_results_during_training['coverage_over_train_group_0']) -1 # - 200 + 10\n",
    "\n",
    "\n",
    "desired_accuracy = 1-alpha\n",
    "\n",
    "plt.plot(curr_results_during_training['coverage_over_train_group_0'][:last_epoch_to_present], label=\"Train\", linewidth=line_width)\n",
    "plt.plot(curr_results_during_training['coverage_over_test_group_0'][:last_epoch_to_present], label=\"Test\", linewidth=line_width)\n",
    "plt.axhline(y=desired_accuracy, color='r', linestyle='--',  label=\"Nominal Coverage Level\")\n",
    "plt.axvline(len(curr_results_during_training['coverage_over_train_group_0']) - 200, color='purple',  linestyle='-', label=\"Best Epoch\")\n",
    "\n",
    "plt.legend(loc=\"lower right\")\n",
    "\n",
    "\n",
    "plt.title(majority_title)\n",
    "plt.xlabel(\"Epoch\")\n",
    "plt.ylabel(\"Coverage\")\n",
    "plt.savefig(f'{save_dir}/{majority_title}.png', dpi=300)\n",
    "plt.show()\n",
    "\n",
    "plt.plot(curr_results_during_training['coverage_over_train_group_1'][:last_epoch_to_present], label=\"Train\", linewidth=line_width)\n",
    "plt.plot(curr_results_during_training['coverage_over_test_group_1'][:last_epoch_to_present], label=\"Test\", linewidth=line_width)\n",
    "plt.axhline(y=desired_accuracy, color='r', linestyle='--', label=\"Nominal Coverage Level\")\n",
    "plt.axvline(len(curr_results_during_training['coverage_over_train_group_1']) - 200, color='purple',  linestyle='-', label=\"Best Epoch\")\n",
    "\n",
    "\n",
    "plt.title(minority_title)\n",
    "plt.xlabel(\"Epoch\")\n",
    "plt.ylabel(\"Coverage\")\n",
    "plt.savefig(f'{save_dir}/{minority_title}.png', dpi=300)\n",
    "plt.show()\n",
    "\n"
   ]
  },
  {
   "cell_type": "code",
   "execution_count": null,
   "metadata": {},
   "outputs": [],
   "source": [
    "print('majority train coverage: {:.2f}, majority test coverage: {:.2f}'.\n",
    "      format(curr_results_during_training['coverage_over_train_group_0'][-201]*100,\n",
    "      curr_results_during_training['coverage_over_test_group_0'][-201]*100))\n",
    "\n",
    "print('majority train avg length: {:.2f}, majority test avg length: {:.2f}'.\n",
    "      format(curr_results_during_training['interval_lengths_over_train_group_0'][-201],\n",
    "      curr_results_during_training['interval_lengths_over_test_group_0'][-201]))\n",
    "print()\n",
    "\n",
    "print('minority train: {:.2f}, minority test: {:.2f}'.\n",
    "      format(curr_results_during_training['coverage_over_train_group_1'][-201]*100,\n",
    "      curr_results_during_training['coverage_over_test_group_1'][-201]*100))\n",
    "\n",
    "\n",
    "print('minority train avg length: {:.2f}, minority test avg length: {:.2f}'.\n",
    "      format(curr_results_during_training['interval_lengths_over_train_group_1'][-201],\n",
    "      curr_results_during_training['interval_lengths_over_test_group_1'][-201]))"
   ]
  },
  {
   "cell_type": "markdown",
   "metadata": {},
   "source": [
    "# Synthetic Data Results - averaged over 30 seeds\n",
    "\n",
    "### Run `python run_all_synthetic_data_experiments.py` in the folder `reproducible_experiments` to receive all results of the synthetic data"
   ]
  },
  {
   "cell_type": "markdown",
   "metadata": {},
   "source": [
    "## Pinball loss"
   ]
  },
  {
   "cell_type": "code",
   "execution_count": null,
   "metadata": {
    "scrolled": false
   },
   "outputs": [],
   "source": [
    "\"\"\"\n",
    "possible loss_method = ['qr,' 'int']\n",
    "\n",
    "\"\"\"\n",
    "\n",
    "display_results(['3', '10'], loss_method='qr',\n",
    "                              corr_multipliers=[0.,0.5], hsic_multipliers=[0.], \n",
    "                              seeds=seeds,desired_coverage=0.9, is_real=False, print_latex=False)\n",
    "\n",
    "styled_final_df = display_final_results('qr', 'Vanilla QR', 'OQR (corr)', is_real=False) "
   ]
  },
  {
   "cell_type": "markdown",
   "metadata": {},
   "source": [
    "## Interval score loss"
   ]
  },
  {
   "cell_type": "code",
   "execution_count": null,
   "metadata": {},
   "outputs": [],
   "source": [
    "display_results(['3', '10'], loss_method='int', corr_multipliers=[0., 3.], hsic_multipliers=[0.],\n",
    "                is_real=False, print_latex=False)\n",
    "\n",
    "styled_final_df = display_final_results('int', 'Vanilla QR', 'OQR (corr)', is_real=False)"
   ]
  },
  {
   "cell_type": "markdown",
   "metadata": {},
   "source": [
    "# Weighted QR (pinball loss)"
   ]
  },
  {
   "cell_type": "code",
   "execution_count": 7,
   "metadata": {},
   "outputs": [
    {
     "name": "stdout",
     "output_type": "stream",
     "text": [
      "Mean values and standard errors:\n"
     ]
    },
    {
     "data": {
      "text/html": [
       "<div>\n",
       "<style scoped>\n",
       "    .dataframe tbody tr th:only-of-type {\n",
       "        vertical-align: middle;\n",
       "    }\n",
       "\n",
       "    .dataframe tbody tr th {\n",
       "        vertical-align: top;\n",
       "    }\n",
       "\n",
       "    .dataframe thead tr th {\n",
       "        text-align: left;\n",
       "    }\n",
       "</style>\n",
       "<table border=\"1\" class=\"dataframe\">\n",
       "  <thead>\n",
       "    <tr>\n",
       "      <th></th>\n",
       "      <th colspan=\"2\" halign=\"left\">Pearson's corr</th>\n",
       "      <th colspan=\"2\" halign=\"left\">HSIC</th>\n",
       "      <th colspan=\"2\" halign=\"left\">ΔWSC</th>\n",
       "    </tr>\n",
       "    <tr>\n",
       "      <th></th>\n",
       "      <th>Vanilla WQR</th>\n",
       "      <th>OWQR (corr)</th>\n",
       "      <th>Vanilla WQR</th>\n",
       "      <th>OWQR (corr)</th>\n",
       "      <th>Vanilla WQR</th>\n",
       "      <th>OWQR (corr)</th>\n",
       "    </tr>\n",
       "  </thead>\n",
       "  <tbody>\n",
       "    <tr>\n",
       "      <th>3</th>\n",
       "      <td>0.049 (0.004)</td>\n",
       "      <td>0.054 (0.005)</td>\n",
       "      <td>7e-4 (4e-5)</td>\n",
       "      <td>4e-4 (4e-5)</td>\n",
       "      <td>1.744 (0.202)</td>\n",
       "      <td>1.839 (0.198)</td>\n",
       "    </tr>\n",
       "    <tr>\n",
       "      <th>10</th>\n",
       "      <td>0.066 (0.007)</td>\n",
       "      <td>0.073 (0.006)</td>\n",
       "      <td>0.001 (6e-5)</td>\n",
       "      <td>2e-4 (1e-5)</td>\n",
       "      <td>2.725 (0.215)</td>\n",
       "      <td>1.885 (0.163)</td>\n",
       "    </tr>\n",
       "  </tbody>\n",
       "</table>\n",
       "</div>"
      ],
      "text/plain": [
       "   Pearson's corr                         HSIC                        ΔWSC  \\\n",
       "      Vanilla WQR    OWQR (corr)   Vanilla WQR  OWQR (corr)    Vanilla WQR   \n",
       "3   0.049 (0.004)  0.054 (0.005)   7e-4 (4e-5)  4e-4 (4e-5)  1.744 (0.202)   \n",
       "10  0.066 (0.007)  0.073 (0.006)  0.001 (6e-5)  2e-4 (1e-5)  2.725 (0.215)   \n",
       "\n",
       "                   \n",
       "      OWQR (corr)  \n",
       "3   1.839 (0.198)  \n",
       "10  1.885 (0.163)  "
      ]
     },
     "metadata": {},
     "output_type": "display_data"
    },
    {
     "data": {
      "text/html": [
       "<style  type=\"text/css\" >\n",
       "    #T_82e5c_ th {\n",
       "          text-align: center;\n",
       "          border-width: 0px;\n",
       "    }#T_82e5c_row0_col0,#T_82e5c_row0_col1,#T_82e5c_row0_col2,#T_82e5c_row0_col3,#T_82e5c_row0_col4,#T_82e5c_row0_col5,#T_82e5c_row0_col6,#T_82e5c_row0_col7,#T_82e5c_row1_col0,#T_82e5c_row1_col1,#T_82e5c_row1_col2,#T_82e5c_row1_col3,#T_82e5c_row1_col4,#T_82e5c_row1_col5,#T_82e5c_row1_col6,#T_82e5c_row1_col7{\n",
       "            color:  black;\n",
       "        }#T_82e5c_row0_col8,#T_82e5c_row0_col10,#T_82e5c_row1_col8{\n",
       "            color:  red;\n",
       "        }#T_82e5c_row0_col9,#T_82e5c_row1_col9,#T_82e5c_row1_col10{\n",
       "            color:  green;\n",
       "        }</style><table id=\"T_82e5c_\" ><thead>    <tr>        <th class=\"blank level0\" ></th>        <th class=\"col_heading level0 col0\" colspan=\"2\">Majority Coverage</th>        <th class=\"col_heading level0 col2\" colspan=\"2\">Minority Coverage</th>        <th class=\"col_heading level0 col4\" colspan=\"2\">Majority Lengths</th>        <th class=\"col_heading level0 col6\" colspan=\"2\">Minority Lengths</th>        <th class=\"col_heading level0 col8\" colspan=\"3\">% Improvement</th>    </tr>    <tr>        <th class=\"blank level1\" ></th>        <th class=\"col_heading level1 col0\" >Vanilla WQR</th>        <th class=\"col_heading level1 col1\" >OWQR (corr)</th>        <th class=\"col_heading level1 col2\" >Vanilla WQR</th>        <th class=\"col_heading level1 col3\" >OWQR (corr)</th>        <th class=\"col_heading level1 col4\" >Vanilla WQR</th>        <th class=\"col_heading level1 col5\" >OWQR (corr)</th>        <th class=\"col_heading level1 col6\" >Vanilla WQR</th>        <th class=\"col_heading level1 col7\" >OWQR (corr)</th>        <th class=\"col_heading level1 col8\" >Pearson's corr</th>        <th class=\"col_heading level1 col9\" >HSIC</th>        <th class=\"col_heading level1 col10\" >ΔWSC</th>    </tr></thead><tbody>\n",
       "                <tr>\n",
       "                        <th id=\"T_82e5c_level0_row0\" class=\"row_heading level0 row0\" >$\\lambda=3$</th>\n",
       "                        <td id=\"T_82e5c_row0_col0\" class=\"data row0 col0\" >90.87%</td>\n",
       "                        <td id=\"T_82e5c_row0_col1\" class=\"data row0 col1\" >91.87%</td>\n",
       "                        <td id=\"T_82e5c_row0_col2\" class=\"data row0 col2\" >69.04%</td>\n",
       "                        <td id=\"T_82e5c_row0_col3\" class=\"data row0 col3\" >84.25%</td>\n",
       "                        <td id=\"T_82e5c_row0_col4\" class=\"data row0 col4\" >6.02</td>\n",
       "                        <td id=\"T_82e5c_row0_col5\" class=\"data row0 col5\" >5.02</td>\n",
       "                        <td id=\"T_82e5c_row0_col6\" class=\"data row0 col6\" >7.33</td>\n",
       "                        <td id=\"T_82e5c_row0_col7\" class=\"data row0 col7\" >10.75</td>\n",
       "                        <td id=\"T_82e5c_row0_col8\" class=\"data row0 col8\" >-10.09</td>\n",
       "                        <td id=\"T_82e5c_row0_col9\" class=\"data row0 col9\" >+43.03</td>\n",
       "                        <td id=\"T_82e5c_row0_col10\" class=\"data row0 col10\" >-5.41</td>\n",
       "            </tr>\n",
       "            <tr>\n",
       "                        <th id=\"T_82e5c_level0_row1\" class=\"row_heading level0 row1\" >$\\lambda=10$</th>\n",
       "                        <td id=\"T_82e5c_row1_col0\" class=\"data row1 col0\" >90.20%</td>\n",
       "                        <td id=\"T_82e5c_row1_col1\" class=\"data row1 col1\" >94.73%</td>\n",
       "                        <td id=\"T_82e5c_row1_col2\" class=\"data row1 col2\" >68.89%</td>\n",
       "                        <td id=\"T_82e5c_row1_col3\" class=\"data row1 col3\" >87.58%</td>\n",
       "                        <td id=\"T_82e5c_row1_col4\" class=\"data row1 col4\" >18.35</td>\n",
       "                        <td id=\"T_82e5c_row1_col5\" class=\"data row1 col5\" >15.76</td>\n",
       "                        <td id=\"T_82e5c_row1_col6\" class=\"data row1 col6\" >23.56</td>\n",
       "                        <td id=\"T_82e5c_row1_col7\" class=\"data row1 col7\" >36.18</td>\n",
       "                        <td id=\"T_82e5c_row1_col8\" class=\"data row1 col8\" >-10.28</td>\n",
       "                        <td id=\"T_82e5c_row1_col9\" class=\"data row1 col9\" >+81.43</td>\n",
       "                        <td id=\"T_82e5c_row1_col10\" class=\"data row1 col10\" >+30.81</td>\n",
       "            </tr>\n",
       "    </tbody></table>"
      ],
      "text/plain": [
       "<pandas.io.formats.style.Styler at 0x256e7798550>"
      ]
     },
     "metadata": {},
     "output_type": "display_data"
    }
   ],
   "source": [
    "display_results(['3', '10'], loss_method='wqr',\n",
    "                              corr_multipliers=[0.,3.], hsic_multipliers=[0.], \n",
    "                              seeds=range(60),desired_coverage=0.9, is_real=False, print_latex=False, keep_cov_and_len=False)\n",
    "\n",
    "styled_final_df = display_final_results('wqr', baseline_method='Vanilla WQR', improved_method='OWQR (corr)',\n",
    "                                        is_real=False, to_latex=False)\n",
    "\n"
   ]
  },
  {
   "cell_type": "markdown",
   "metadata": {},
   "source": [
    "# Real Dataset Results - averaged over 30 seeds\n",
    "### Run `python run_all_real_data_experiments.py` in the folder `reproducible_experiments` to receive all results of the real data"
   ]
  },
  {
   "cell_type": "code",
   "execution_count": null,
   "metadata": {},
   "outputs": [],
   "source": [
    "possible_dataset_names = ['facebook_1', 'facebook_2','blog_data', 'bio',\\\n",
    "                 'kin8nm', 'naval','meps_19', 'meps_20', 'meps_21']\n"
   ]
  },
  {
   "cell_type": "markdown",
   "metadata": {},
   "source": [
    "## Pinball loss"
   ]
  },
  {
   "cell_type": "code",
   "execution_count": null,
   "metadata": {
    "scrolled": true
   },
   "outputs": [],
   "source": [
    "\"\"\"\n",
    "possible dataset_names = ['facebook_1', 'facebook_2','blog_data', 'bio',\\\n",
    "                 'kin8nm', 'naval','meps_19', 'meps_20', 'meps_21']\n",
    "   \n",
    "possible loss_method = ['qr,' 'int']\n",
    "\n",
    "\"\"\"\n",
    "\n",
    "dataset_names = ['facebook_1', 'facebook_2','blog_data', 'bio',\\\n",
    "                 'kin8nm', 'naval','meps_19', 'meps_20', 'meps_21']\n",
    "\n",
    "display_results(dataset_names, loss_method='qr',\n",
    "                              corr_multipliers=[0., 0.1, 0.5], hsic_multipliers=[0.], \n",
    "                              seeds=seeds,desired_coverage=0.9, is_real=True, print_latex=False)\n",
    "\n",
    "styled_final_df = display_final_results('qr', baseline_method='Vanilla QR', improved_method='OQR (corr)', is_real=True)"
   ]
  },
  {
   "cell_type": "markdown",
   "metadata": {},
   "source": [
    "## Interval score loss"
   ]
  },
  {
   "cell_type": "code",
   "execution_count": null,
   "metadata": {
    "scrolled": true
   },
   "outputs": [],
   "source": [
    "dataset_names = possible_dataset_names\n",
    "\n",
    "display_results(dataset_names, loss_method='int',\n",
    "                              corr_multipliers=[0., 0.1, 0.5, 1., 3.], hsic_multipliers=[0.], \n",
    "                              seeds=seeds,desired_coverage=0.9, is_real=True, print_latex=False)\n",
    "\n",
    "styled_final_df = display_final_results('int', baseline_method='Vanilla QR', improved_method='OQR (corr)', is_real=True)"
   ]
  },
  {
   "cell_type": "markdown",
   "metadata": {},
   "source": [
    "# Weighted QR (pinball loss)"
   ]
  },
  {
   "cell_type": "code",
   "execution_count": null,
   "metadata": {
    "scrolled": true
   },
   "outputs": [],
   "source": [
    "dataset_names = ['facebook_1', 'facebook_2','blog_data', 'bio',\\\n",
    "                 'kin8nm', 'naval','meps_19', 'meps_20', 'meps_21']\n",
    "\n",
    "\n",
    "display_results(dataset_names, loss_method='wqr',\n",
    "                              corr_multipliers=[0., 0.1, 0.5], hsic_multipliers=[0.], \n",
    "                              seeds=seeds,desired_coverage=0.9, is_real=True, print_latex=False)\n",
    "\n",
    "styled_final_df = display_final_results('wqr', baseline_method='Vanilla WQR', improved_method='OWQR (corr)', is_real=True)"
   ]
  },
  {
   "cell_type": "markdown",
   "metadata": {},
   "source": [
    "## Pinball loss and HSIC\n",
    "### Vanilla QR vs Orthogonal QR (with pinball loss and HSIC)"
   ]
  },
  {
   "cell_type": "code",
   "execution_count": null,
   "metadata": {
    "scrolled": true
   },
   "outputs": [],
   "source": [
    "dataset_names =possible_dataset_names\n",
    "\n",
    "display_results(dataset_names, loss_method='qr',\n",
    "                              corr_multipliers=[0.], hsic_multipliers=[0., 0.1, 0.5], \n",
    "                              base_method=VANILLA_QR, improved_method=OQR_HSIC,\n",
    "                              seeds=seeds,desired_coverage=0.9, is_real=True, print_latex=False)\n",
    "\n",
    "styled_final_df = display_final_results('qr', baseline_method='Vanilla QR', improved_method='OQR (HSIC)', is_real=True)"
   ]
  },
  {
   "cell_type": "markdown",
   "metadata": {},
   "source": [
    "###  Orthogonal QR (with pinball loss and HSIC) vs  Orthogonal QR (with pinball loss and decorrelation)"
   ]
  },
  {
   "cell_type": "code",
   "execution_count": null,
   "metadata": {
    "scrolled": true
   },
   "outputs": [],
   "source": [
    "dataset_names = possible_dataset_names\n",
    "\n",
    "\n",
    "display_results(dataset_names, loss_method='qr',\n",
    "                              corr_multipliers=[0., 0.1, 0.5], hsic_multipliers=[0., 0.1, 0.5], \n",
    "                              base_method=OQR_HSIC, improved_method=OQR_CORR,\n",
    "                              seeds=seeds,desired_coverage=0.9, is_real=True, print_latex=False)\n",
    "\n",
    "styled_final_df = display_final_results('qr', baseline_method='OQR (HSIC)',\n",
    "                                        improved_method='OQR (corr)', is_real=True)"
   ]
  },
  {
   "cell_type": "markdown",
   "metadata": {},
   "source": [
    "# Conformalized Quantile Regression (pinball loss)\n",
    "## Vanilla CQR vs Orthogonal CQR (decorrelation penalty)"
   ]
  },
  {
   "cell_type": "code",
   "execution_count": null,
   "metadata": {
    "scrolled": true
   },
   "outputs": [],
   "source": [
    "dataset_names = possible_dataset_names\n",
    "\n",
    "\n",
    "display_results(dataset_names, loss_method='qr',\n",
    "                              corr_multipliers=[0., 0.1, 0.5], hsic_multipliers=[0.], \n",
    "                              seeds=seeds, desired_coverage=0.9, is_calibrated=True, is_real=True)\n",
    "\n",
    "styled_final_df = display_final_results('cal_qr', baseline_method='Vanilla CQR',\n",
    "                                        improved_method='OCQR (corr)', is_real=True)"
   ]
  },
  {
   "cell_type": "markdown",
   "metadata": {},
   "source": [
    "# Quantile regression forest"
   ]
  },
  {
   "cell_type": "code",
   "execution_count": null,
   "metadata": {},
   "outputs": [],
   "source": [
    "\"\"\"\n",
    "possible dataset_names = ['facebook_1', 'facebook_2','blog_data', 'bio',\\\n",
    "                 'kin8nm', 'naval','meps_19', 'meps_20', 'meps_21']\n",
    "   \n",
    "possible loss_method = ['qr,' 'int']\n",
    "\n",
    "\"\"\"\n",
    "\n",
    "dataset_names = ['facebook_1', 'blog_data', 'bio',\\\n",
    "                 'kin8nm', 'naval','meps_19', 'meps_20', 'meps_21']\n",
    "\n",
    "display_results(dataset_names, method='qr_forest', \n",
    "                              seeds=seeds,desired_coverage=0.9, is_real=True, print_latex=False, keep_cov_and_len=True)"
   ]
  },
  {
   "cell_type": "markdown",
   "metadata": {},
   "source": [
    "# Parameters as a function of regularization multiplier"
   ]
  },
  {
   "cell_type": "code",
   "execution_count": 37,
   "metadata": {},
   "outputs": [],
   "source": [
    "from argparse import Namespace\n",
    "import pandas as pd\n",
    "from helper import get_method_results_dir\n",
    "import numpy as np\n",
    "\n",
    "method_args = Namespace(\n",
    "    loss='batch_qr',\n",
    "    bs=1024,\n",
    "    hsic_mult=0.0,\n",
    "    method='QR'\n",
    "    )\n",
    "data_name =  \"minority_group_uncertainty=3\"\n",
    "seeds = range(20)\n",
    "corr_mults = [0., 0.1, 0.25, 0.5, 1, 1.5, 2, 3, 4, 5, 6, 7, 8, 9, 10]  # = gamma\n",
    "\n",
    "total_df = pd.DataFrame()\n",
    "features = ['coverage', 'interval_len', 'interval_len_var', 'test_pearson_corr',  'test_hsic', 'test_wsc_diff']\n",
    "reduction_method = np.mean\n",
    "\n",
    "for corr_mult in corr_mults:\n",
    "    corr_mult = float(corr_mult)\n",
    "    method_args.corr_mult = corr_mult\n",
    "    seeds_df = pd.DataFrame()\n",
    "    for seed in seeds:\n",
    "        results_dir = get_method_results_dir(SYN_DATA, data_name, method_args)\n",
    "        results_path = f\"{results_dir}/seed={seed}.csv\"\n",
    "        df = pd.read_csv(results_path)\n",
    "        df = df.drop(['Unnamed: 0'], axis=1)\n",
    "        df = df[features]\n",
    "        seeds_df = seeds_df.append(df)\n",
    "    seeds_df = seeds_df.apply(reduction_method, axis=0).to_frame(corr_mult)\n",
    "    total_df = total_df.append(seeds_df.T)\n",
    "\n",
    "feature_name_map = {\n",
    "    'coverage': 'Coverage', \n",
    "    'interval_len': 'Avg. length',\n",
    "    'interval_len_var': \"Length's variance\", \n",
    "    'test_pearson_corr': \"Pearson's correlation\",  \n",
    "    'test_hsic': \"HSIC\",\n",
    "    'test_wsc_diff': \"ΔWSC\"\n",
    "}\n",
    "\n",
    "feature_save_name_map = {\n",
    "    'coverage': 'Coverage', \n",
    "    'interval_len': 'Avg_length',\n",
    "    'interval_len_var': \"Interval's_length_variance\", \n",
    "    'test_pearson_corr': \"Pearson's_correlation\",  \n",
    "    'test_hsic': \"HSIC\",\n",
    "    'test_wsc_diff': \"ΔWSC\"\n",
    "}"
   ]
  },
  {
   "cell_type": "code",
   "execution_count": 45,
   "metadata": {
    "scrolled": false
   },
   "outputs": [
    {
     "data": {
      "image/png": "[encoded data removed]",
      "text/plain": [
       "<Figure size 489.6x345.6 with 1 Axes>"
      ]
     },
     "metadata": {
      "needs_background": "light"
     },
     "output_type": "display_data"
    },
    {
     "data": {
      "image/png": "[encoded data removed]",
      "text/plain": [
       "<Figure size 489.6x345.6 with 1 Axes>"
      ]
     },
     "metadata": {
      "needs_background": "light"
     },
     "output_type": "display_data"
    },
    {
     "data": {
      "image/png": "[encoded data removed]",
      "text/plain": [
       "<Figure size 489.6x345.6 with 1 Axes>"
      ]
     },
     "metadata": {
      "needs_background": "light"
     },
     "output_type": "display_data"
    },
    {
     "data": {
      "image/png": "[encoded data removed]",
      "text/plain": [
       "<Figure size 489.6x345.6 with 1 Axes>"
      ]
     },
     "metadata": {
      "needs_background": "light"
     },
     "output_type": "display_data"
    },
    {
     "data": {
      "image/png": "[encoded data removed]",
      "text/plain": [
       "<Figure size 489.6x345.6 with 1 Axes>"
      ]
     },
     "metadata": {
      "needs_background": "light"
     },
     "output_type": "display_data"
    },
    {
     "data": {
      "image/png": "[encoded data removed]",
      "text/plain": [
       "<Figure size 489.6x345.6 with 1 Axes>"
      ]
     },
     "metadata": {
      "needs_background": "light"
     },
     "output_type": "display_data"
    }
   ],
   "source": [
    "from helper import get_feature_as_function_of_mult_figure_dir\n",
    "import matplotlib \n",
    "from matplotlib.pyplot import figure\n",
    "\n",
    "\n",
    "for feature in features:\n",
    "    figure(figsize=(6.8, 4.8))\n",
    "    original_feature_name = feature\n",
    "    plt.plot(abs(total_df[feature]))\n",
    "    feature = feature_name_map[feature]\n",
    "    plt.xlabel(\"$\\gamma$\")\n",
    "    plt.ylabel(feature)\n",
    "#     plt.title(f\"{feature} vs $\\gamma$\")\n",
    "    save_dir = get_feature_as_function_of_mult_figure_dir(SYN_DATA, data_name, mult=\"corr\", args=method_args)\n",
    "    create_folder_if_it_doesnt_exist(save_dir)\n",
    "    matplotlib.rc('font', **{'size': 17})\n",
    "    plt.savefig(f\"{save_dir}/{feature_save_name_map[original_feature_name]}.png\", dpi=300)\n",
    "    plt.show()"
   ]
  },
  {
   "cell_type": "code",
   "execution_count": null,
   "metadata": {},
   "outputs": [],
   "source": []
  }
 ],
 "metadata": {
  "kernelspec": {
   "display_name": "Python 3",
   "language": "python",
   "name": "python3"
  },
  "language_info": {
   "codemirror_mode": {
    "name": "ipython",
    "version": 3
   },
   "file_extension": ".py",
   "mimetype": "text/x-python",
   "name": "python",
   "nbconvert_exporter": "python",
   "pygments_lexer": "ipython3",
   "version": "3.8.6"
  }
 },
 "nbformat": 4,
 "nbformat_minor": 4
}
